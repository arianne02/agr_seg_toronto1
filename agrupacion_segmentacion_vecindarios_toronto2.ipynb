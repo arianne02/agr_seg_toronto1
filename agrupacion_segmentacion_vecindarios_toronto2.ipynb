{
 "cells": [
  {
   "cell_type": "markdown",
   "id": "f260b68d",
   "metadata": {},
   "source": [
    "## Agrupación y Segmentación de Vecindarios en la ciudad de Toronto"
   ]
  },
  {
   "cell_type": "markdown",
   "id": "ab3000c7",
   "metadata": {},
   "source": [
    " _*Descripción de la actividad:*_\n",
    " \n",
    " \n",
    " En esta tarea, se le pedirá que explore, segmente y agrupe los vecindarios de la ciudad de Toronto. Sin embargo, a diferencia de Nueva York, los datos del vecindario no están disponibles en Internet. Lo interesante del campo de la ciencia de datos es que cada proyecto puede ser desafiante en su forma única, por lo que debe aprender a ser ágil y refinar la habilidad para aprender nuevas bibliotecas y herramientas rápidamente según el proyecto.\n",
    "\n",
    "Para los datos de vecindarios de Toronto, existe una página de Wikipedia que tiene toda la información que necesitamos para explorar y agrupar los vecindarios de Toronto. Se le pedirá que rastree la página de Wikipedia y discuta los datos, los limpie y luego los lea en un marco de datos de pandas para que esté en un formato estructurado como el conjunto de datos de Nueva York.\n",
    "\n",
    "Una vez que los datos están en un formato estructurado, puede replicar el análisis que hicimos en el conjunto de datos de la ciudad de Nueva York para explorar y agrupar los vecindarios en la ciudad de Toronto."
   ]
  },
  {
   "cell_type": "code",
   "execution_count": 1,
   "id": "0d98aa4f",
   "metadata": {},
   "outputs": [],
   "source": [
    "import pandas as pd\n",
    "import numpy as np"
   ]
  },
  {
   "cell_type": "code",
   "execution_count": 2,
   "id": "1d5dbb50",
   "metadata": {},
   "outputs": [
    {
     "data": {
      "text/plain": [
       "0                                        M1ANot assigned\n",
       "1                        M1BScarborough(Malvern / Rouge)\n",
       "2      M1CScarborough(Rouge Hill / Port Union / Highl...\n",
       "3      M1EScarborough(Guildwood / Morningside / West ...\n",
       "4                                 M1GScarborough(Woburn)\n",
       "                             ...                        \n",
       "175    M9VEtobicoke(South Steeles / Silverstone / Hum...\n",
       "176    M9WEtobicokeNorthwest(Clairville / Humberwood ...\n",
       "177                                      M9XNot assigned\n",
       "178                                      M9YNot assigned\n",
       "179                                      M9ZNot assigned\n",
       "Name: value, Length: 180, dtype: object"
      ]
     },
     "execution_count": 2,
     "metadata": {},
     "output_type": "execute_result"
    }
   ],
   "source": [
    "#Llamamos a la URL de wikipedia para recuperar la información con la que vamos a trabajar\n",
    "df = pd.read_html(\"https://en.wikipedia.org/wiki/List_of_postal_codes_of_Canada:_M\") #get Canada data From wikipedia\n",
    "df = df[0]\n",
    "df = df.melt()['value']\n",
    "df"
   ]
  },
  {
   "cell_type": "code",
   "execution_count": 3,
   "id": "b2a36e33",
   "metadata": {},
   "outputs": [],
   "source": [
    "#Recorremos los datos descargados y extraemos los valores de \"códigoPostal\", \"Vecindario\" y \"Municipio\" de los strings \n",
    "df_clean = pd.DataFrame()\n",
    "df_clean['CódigoPostal'] = df.apply(lambda x : x[:3])\n",
    "df_clean['location_tmp'] = df.apply(lambda x : x[3:])\n",
    "#Borramos las filas que tienen municipio \"no asignado\"\n",
    "df_clean = df_clean[df_clean['location_tmp'] != 'Not assigned']\n",
    "#df_clean['Vecindario'] = np.where(df['location_tmp'] == 'Not assigned', , )\n",
    "df_clean['Municipio'] = df_clean['location_tmp'].apply(lambda x: str(x).split('(')[0])\n",
    "df_clean['Vecindario'] = df_clean['location_tmp'].apply(lambda x: str(x).split('(')[1].replace(')','').replace('/',',' ))\n",
    "#si el Vecindario está como \"No asignado\", pero tiene municipio asignado se emplea el valor del Municipio como Vecindario\n",
    "df_clean['Vecindario'] = np.where(df_clean['Vecindario'] == 'Not assigned', df_clean['Municipio'], df_clean['Vecindario'])\n",
    "df_clean=df_clean[['CódigoPostal','Municipio', 'Vecindario']].reset_index(drop=True)"
   ]
  },
  {
   "cell_type": "code",
   "execution_count": 4,
   "id": "6e2b52a6",
   "metadata": {},
   "outputs": [
    {
     "data": {
      "text/plain": [
       "array(['M1B', 'M1C', 'M1E', 'M1G', 'M1H', 'M1J', 'M1K', 'M1L', 'M1M',\n",
       "       'M1N', 'M1P', 'M1R', 'M1S', 'M1T', 'M1V', 'M1W', 'M1X', 'M2H',\n",
       "       'M2J', 'M2K', 'M2L', 'M2M', 'M2N', 'M2P', 'M2R', 'M3A', 'M3B',\n",
       "       'M3C', 'M3H', 'M3J', 'M3K', 'M3L', 'M3M', 'M3N', 'M4A', 'M4B',\n",
       "       'M4C', 'M4E', 'M4G', 'M4H', 'M4J', 'M4K', 'M4L', 'M4M', 'M4N',\n",
       "       'M4P', 'M4R', 'M4S', 'M4T', 'M4V', 'M4W', 'M4X', 'M4Y', 'M5A',\n",
       "       'M5B', 'M5C', 'M5E', 'M5G', 'M5H', 'M5J', 'M5K', 'M5L', 'M5M',\n",
       "       'M5N', 'M5P', 'M5R', 'M5S', 'M5T', 'M5V', 'M5W', 'M5X', 'M6A',\n",
       "       'M6B', 'M6C', 'M6E', 'M6G', 'M6H', 'M6J', 'M6K', 'M6L', 'M6M',\n",
       "       'M6N', 'M6P', 'M6R', 'M6S', 'M7A', 'M7R', 'M7Y', 'M8V', 'M8W',\n",
       "       'M8X', 'M8Y', 'M8Z', 'M9A', 'M9B', 'M9C', 'M9L', 'M9M', 'M9N',\n",
       "       'M9P', 'M9R', 'M9V', 'M9W'], dtype=object)"
      ]
     },
     "execution_count": 4,
     "metadata": {},
     "output_type": "execute_result"
    }
   ],
   "source": [
    "df_clean['CódigoPostal'].values"
   ]
  },
  {
   "cell_type": "code",
   "execution_count": 5,
   "id": "41101c91",
   "metadata": {},
   "outputs": [
    {
     "name": "stdout",
     "output_type": "stream",
     "text": [
      "Nº de filas de la tabla resultante: 103\n"
     ]
    }
   ],
   "source": [
    "print( 'Nº de filas de la tabla resultante: ' + str(df_clean.shape[0]))"
   ]
  },
  {
   "cell_type": "markdown",
   "id": "2ca64c90",
   "metadata": {},
   "source": [
    "#### Ahora pasaremos a la segunda parte, en la que extraeremos las cordenamas de cada código postal:"
   ]
  },
  {
   "cell_type": "code",
   "execution_count": 6,
   "id": "d4541f9a",
   "metadata": {},
   "outputs": [],
   "source": [
    "#Importamos la librería para recuperar las cordenadas\n",
    "import geocoder # import geocoder"
   ]
  },
  {
   "cell_type": "code",
   "execution_count": 21,
   "id": "dc6dae6b",
   "metadata": {},
   "outputs": [],
   "source": [
    "# loop until you get the coordinates\n",
    "## NOT WORKING; Method returning <[REQUEST_DENIED] Google - Geocode [empty]>\n",
    "for i in range(len(df_clean['CódigoPostal'])):\n",
    "    lat_lng_coords = None\n",
    "    postal_code = df_clean['CódigoPostal'][i]\n",
    "    while(lat_lng_coords is None):\n",
    "        g = geocoder.google('{}, Toronto, Ontario'.format(postal_code))\n",
    "        lat_lng_coords = g.latlng\n",
    "\n",
    "    df_clean['Latitude'][i] = lat_lng_coords[0]\n",
    "    df_clean['Longitude'][i] = lat_lng_coords[1]\n",
    "    "
   ]
  },
  {
   "cell_type": "code",
   "execution_count": 22,
   "id": "bab27b7b",
   "metadata": {},
   "outputs": [
    {
     "data": {
      "text/html": [
       "<div>\n",
       "<style scoped>\n",
       "    .dataframe tbody tr th:only-of-type {\n",
       "        vertical-align: middle;\n",
       "    }\n",
       "\n",
       "    .dataframe tbody tr th {\n",
       "        vertical-align: top;\n",
       "    }\n",
       "\n",
       "    .dataframe thead th {\n",
       "        text-align: right;\n",
       "    }\n",
       "</style>\n",
       "<table border=\"1\" class=\"dataframe\">\n",
       "  <thead>\n",
       "    <tr style=\"text-align: right;\">\n",
       "      <th></th>\n",
       "      <th>CódigoPostal</th>\n",
       "      <th>Latitude</th>\n",
       "      <th>Longitude</th>\n",
       "    </tr>\n",
       "  </thead>\n",
       "  <tbody>\n",
       "    <tr>\n",
       "      <th>0</th>\n",
       "      <td>M1B</td>\n",
       "      <td>43.806686</td>\n",
       "      <td>-79.194353</td>\n",
       "    </tr>\n",
       "    <tr>\n",
       "      <th>1</th>\n",
       "      <td>M1C</td>\n",
       "      <td>43.784535</td>\n",
       "      <td>-79.160497</td>\n",
       "    </tr>\n",
       "    <tr>\n",
       "      <th>2</th>\n",
       "      <td>M1E</td>\n",
       "      <td>43.763573</td>\n",
       "      <td>-79.188711</td>\n",
       "    </tr>\n",
       "    <tr>\n",
       "      <th>3</th>\n",
       "      <td>M1G</td>\n",
       "      <td>43.770992</td>\n",
       "      <td>-79.216917</td>\n",
       "    </tr>\n",
       "    <tr>\n",
       "      <th>4</th>\n",
       "      <td>M1H</td>\n",
       "      <td>43.773136</td>\n",
       "      <td>-79.239476</td>\n",
       "    </tr>\n",
       "    <tr>\n",
       "      <th>...</th>\n",
       "      <td>...</td>\n",
       "      <td>...</td>\n",
       "      <td>...</td>\n",
       "    </tr>\n",
       "    <tr>\n",
       "      <th>98</th>\n",
       "      <td>M9N</td>\n",
       "      <td>43.706876</td>\n",
       "      <td>-79.518188</td>\n",
       "    </tr>\n",
       "    <tr>\n",
       "      <th>99</th>\n",
       "      <td>M9P</td>\n",
       "      <td>43.696319</td>\n",
       "      <td>-79.532242</td>\n",
       "    </tr>\n",
       "    <tr>\n",
       "      <th>100</th>\n",
       "      <td>M9R</td>\n",
       "      <td>43.688905</td>\n",
       "      <td>-79.554724</td>\n",
       "    </tr>\n",
       "    <tr>\n",
       "      <th>101</th>\n",
       "      <td>M9V</td>\n",
       "      <td>43.739416</td>\n",
       "      <td>-79.588437</td>\n",
       "    </tr>\n",
       "    <tr>\n",
       "      <th>102</th>\n",
       "      <td>M9W</td>\n",
       "      <td>43.706748</td>\n",
       "      <td>-79.594054</td>\n",
       "    </tr>\n",
       "  </tbody>\n",
       "</table>\n",
       "<p>103 rows × 3 columns</p>\n",
       "</div>"
      ],
      "text/plain": [
       "    CódigoPostal   Latitude  Longitude\n",
       "0            M1B  43.806686 -79.194353\n",
       "1            M1C  43.784535 -79.160497\n",
       "2            M1E  43.763573 -79.188711\n",
       "3            M1G  43.770992 -79.216917\n",
       "4            M1H  43.773136 -79.239476\n",
       "..           ...        ...        ...\n",
       "98           M9N  43.706876 -79.518188\n",
       "99           M9P  43.696319 -79.532242\n",
       "100          M9R  43.688905 -79.554724\n",
       "101          M9V  43.739416 -79.588437\n",
       "102          M9W  43.706748 -79.594054\n",
       "\n",
       "[103 rows x 3 columns]"
      ]
     },
     "execution_count": 22,
     "metadata": {},
     "output_type": "execute_result"
    }
   ],
   "source": [
    "# loop until you get the coordinates\n",
    "## NOT WORKING; Method returning <[REQUEST_DENIED] Google - Geocode [empty]>\n",
    "## USING GIVEN CSV TO LOAD COORDINATES\n",
    "city_data = pd.read_csv('Geospatial_Coordinates.csv')\n",
    "city_data = city_data.rename(columns = {'Postal Code' : 'CódigoPostal'})\n",
    "city_data"
   ]
  },
  {
   "cell_type": "code",
   "execution_count": 25,
   "id": "3eabafa4",
   "metadata": {},
   "outputs": [
    {
     "data": {
      "text/html": [
       "<div>\n",
       "<style scoped>\n",
       "    .dataframe tbody tr th:only-of-type {\n",
       "        vertical-align: middle;\n",
       "    }\n",
       "\n",
       "    .dataframe tbody tr th {\n",
       "        vertical-align: top;\n",
       "    }\n",
       "\n",
       "    .dataframe thead th {\n",
       "        text-align: right;\n",
       "    }\n",
       "</style>\n",
       "<table border=\"1\" class=\"dataframe\">\n",
       "  <thead>\n",
       "    <tr style=\"text-align: right;\">\n",
       "      <th></th>\n",
       "      <th>CódigoPostal</th>\n",
       "      <th>Municipio</th>\n",
       "      <th>Vecindario</th>\n",
       "      <th>Latitude</th>\n",
       "      <th>Longitude</th>\n",
       "    </tr>\n",
       "  </thead>\n",
       "  <tbody>\n",
       "    <tr>\n",
       "      <th>0</th>\n",
       "      <td>M1B</td>\n",
       "      <td>Scarborough</td>\n",
       "      <td>Malvern , Rouge</td>\n",
       "      <td>43.806686</td>\n",
       "      <td>-79.194353</td>\n",
       "    </tr>\n",
       "    <tr>\n",
       "      <th>1</th>\n",
       "      <td>M1C</td>\n",
       "      <td>Scarborough</td>\n",
       "      <td>Rouge Hill , Port Union , Highland Creek</td>\n",
       "      <td>43.784535</td>\n",
       "      <td>-79.160497</td>\n",
       "    </tr>\n",
       "    <tr>\n",
       "      <th>2</th>\n",
       "      <td>M1E</td>\n",
       "      <td>Scarborough</td>\n",
       "      <td>Guildwood , Morningside , West Hill</td>\n",
       "      <td>43.763573</td>\n",
       "      <td>-79.188711</td>\n",
       "    </tr>\n",
       "    <tr>\n",
       "      <th>3</th>\n",
       "      <td>M1G</td>\n",
       "      <td>Scarborough</td>\n",
       "      <td>Woburn</td>\n",
       "      <td>43.770992</td>\n",
       "      <td>-79.216917</td>\n",
       "    </tr>\n",
       "    <tr>\n",
       "      <th>4</th>\n",
       "      <td>M1H</td>\n",
       "      <td>Scarborough</td>\n",
       "      <td>Cedarbrae</td>\n",
       "      <td>43.773136</td>\n",
       "      <td>-79.239476</td>\n",
       "    </tr>\n",
       "    <tr>\n",
       "      <th>...</th>\n",
       "      <td>...</td>\n",
       "      <td>...</td>\n",
       "      <td>...</td>\n",
       "      <td>...</td>\n",
       "      <td>...</td>\n",
       "    </tr>\n",
       "    <tr>\n",
       "      <th>98</th>\n",
       "      <td>M9N</td>\n",
       "      <td>York</td>\n",
       "      <td>Weston</td>\n",
       "      <td>43.706876</td>\n",
       "      <td>-79.518188</td>\n",
       "    </tr>\n",
       "    <tr>\n",
       "      <th>99</th>\n",
       "      <td>M9P</td>\n",
       "      <td>Etobicoke</td>\n",
       "      <td>Westmount</td>\n",
       "      <td>43.696319</td>\n",
       "      <td>-79.532242</td>\n",
       "    </tr>\n",
       "    <tr>\n",
       "      <th>100</th>\n",
       "      <td>M9R</td>\n",
       "      <td>Etobicoke</td>\n",
       "      <td>Kingsview Village , St. Phillips , Martin Grov...</td>\n",
       "      <td>43.688905</td>\n",
       "      <td>-79.554724</td>\n",
       "    </tr>\n",
       "    <tr>\n",
       "      <th>101</th>\n",
       "      <td>M9V</td>\n",
       "      <td>Etobicoke</td>\n",
       "      <td>South Steeles , Silverstone , Humbergate , Jam...</td>\n",
       "      <td>43.739416</td>\n",
       "      <td>-79.588437</td>\n",
       "    </tr>\n",
       "    <tr>\n",
       "      <th>102</th>\n",
       "      <td>M9W</td>\n",
       "      <td>EtobicokeNorthwest</td>\n",
       "      <td>Clairville , Humberwood , Woodbine Downs , Wes...</td>\n",
       "      <td>43.706748</td>\n",
       "      <td>-79.594054</td>\n",
       "    </tr>\n",
       "  </tbody>\n",
       "</table>\n",
       "<p>103 rows × 5 columns</p>\n",
       "</div>"
      ],
      "text/plain": [
       "    CódigoPostal           Municipio  \\\n",
       "0            M1B         Scarborough   \n",
       "1            M1C         Scarborough   \n",
       "2            M1E         Scarborough   \n",
       "3            M1G         Scarborough   \n",
       "4            M1H         Scarborough   \n",
       "..           ...                 ...   \n",
       "98           M9N                York   \n",
       "99           M9P           Etobicoke   \n",
       "100          M9R           Etobicoke   \n",
       "101          M9V           Etobicoke   \n",
       "102          M9W  EtobicokeNorthwest   \n",
       "\n",
       "                                            Vecindario   Latitude  Longitude  \n",
       "0                                      Malvern , Rouge  43.806686 -79.194353  \n",
       "1             Rouge Hill , Port Union , Highland Creek  43.784535 -79.160497  \n",
       "2                  Guildwood , Morningside , West Hill  43.763573 -79.188711  \n",
       "3                                               Woburn  43.770992 -79.216917  \n",
       "4                                            Cedarbrae  43.773136 -79.239476  \n",
       "..                                                 ...        ...        ...  \n",
       "98                                              Weston  43.706876 -79.518188  \n",
       "99                                           Westmount  43.696319 -79.532242  \n",
       "100  Kingsview Village , St. Phillips , Martin Grov...  43.688905 -79.554724  \n",
       "101  South Steeles , Silverstone , Humbergate , Jam...  43.739416 -79.588437  \n",
       "102  Clairville , Humberwood , Woodbine Downs , Wes...  43.706748 -79.594054  \n",
       "\n",
       "[103 rows x 5 columns]"
      ]
     },
     "execution_count": 25,
     "metadata": {},
     "output_type": "execute_result"
    }
   ],
   "source": [
    "df_clean = pd.merge(df_clean,city_data, on='CódigoPostal', how='inner')\n",
    "df_clean"
   ]
  }
 ],
 "metadata": {
  "kernelspec": {
   "display_name": "Python 3 (ipykernel)",
   "language": "python",
   "name": "python3"
  },
  "language_info": {
   "codemirror_mode": {
    "name": "ipython",
    "version": 3
   },
   "file_extension": ".py",
   "mimetype": "text/x-python",
   "name": "python",
   "nbconvert_exporter": "python",
   "pygments_lexer": "ipython3",
   "version": "3.9.7"
  }
 },
 "nbformat": 4,
 "nbformat_minor": 5
}
