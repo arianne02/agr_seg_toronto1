{
 "cells": [
  {
   "cell_type": "markdown",
   "id": "bdac5041",
   "metadata": {},
   "source": [
    "## Agrupación y Segmentación de Vecindarios en la ciudad de Toronto"
   ]
  },
  {
   "cell_type": "markdown",
   "id": "67368a32",
   "metadata": {},
   "source": [
    " _*Descripción de la actividad:*_\n",
    " \n",
    " \n",
    " En esta tarea, se le pedirá que explore, segmente y agrupe los vecindarios de la ciudad de Toronto. Sin embargo, a diferencia de Nueva York, los datos del vecindario no están disponibles en Internet. Lo interesante del campo de la ciencia de datos es que cada proyecto puede ser desafiante en su forma única, por lo que debe aprender a ser ágil y refinar la habilidad para aprender nuevas bibliotecas y herramientas rápidamente según el proyecto.\n",
    "\n",
    "Para los datos de vecindarios de Toronto, existe una página de Wikipedia que tiene toda la información que necesitamos para explorar y agrupar los vecindarios de Toronto. Se le pedirá que rastree la página de Wikipedia y discuta los datos, los limpie y luego los lea en un marco de datos de pandas para que esté en un formato estructurado como el conjunto de datos de Nueva York.\n",
    "\n",
    "Una vez que los datos están en un formato estructurado, puede replicar el análisis que hicimos en el conjunto de datos de la ciudad de Nueva York para explorar y agrupar los vecindarios en la ciudad de Toronto."
   ]
  },
  {
   "cell_type": "code",
   "execution_count": 1,
   "id": "eab741c9",
   "metadata": {},
   "outputs": [],
   "source": [
    "import pandas as pd\n",
    "import numpy as np"
   ]
  },
  {
   "cell_type": "code",
   "execution_count": 2,
   "id": "bce34376",
   "metadata": {},
   "outputs": [
    {
     "data": {
      "text/plain": [
       "0                                        M1ANot assigned\n",
       "1                        M1BScarborough(Malvern / Rouge)\n",
       "2      M1CScarborough(Rouge Hill / Port Union / Highl...\n",
       "3      M1EScarborough(Guildwood / Morningside / West ...\n",
       "4                                 M1GScarborough(Woburn)\n",
       "                             ...                        \n",
       "175    M9VEtobicoke(South Steeles / Silverstone / Hum...\n",
       "176    M9WEtobicokeNorthwest(Clairville / Humberwood ...\n",
       "177                                      M9XNot assigned\n",
       "178                                      M9YNot assigned\n",
       "179                                      M9ZNot assigned\n",
       "Name: value, Length: 180, dtype: object"
      ]
     },
     "execution_count": 2,
     "metadata": {},
     "output_type": "execute_result"
    }
   ],
   "source": [
    "#Llamamos a la URL de wikipedia para recuperar la información con la que vamos a trabajar\n",
    "df = pd.read_html(\"https://en.wikipedia.org/wiki/List_of_postal_codes_of_Canada:_M\") #get Canada data From wikipedia\n",
    "df = df[0]\n",
    "df = df.melt()['value']\n",
    "df"
   ]
  },
  {
   "cell_type": "code",
   "execution_count": 3,
   "id": "acf9778f",
   "metadata": {},
   "outputs": [],
   "source": [
    "#Recorremos los datos descargados y extraemos los valores de \"códigoPostal\", \"Vecindario\" y \"Municipio\" de los strings \n",
    "df_clean = pd.DataFrame()\n",
    "df_clean['CódigoPostal'] = df.apply(lambda x : x[:3])\n",
    "df_clean['location_tmp'] = df.apply(lambda x : x[3:])\n",
    "#Borramos las filas que tienen municipio \"no asignado\"\n",
    "df_clean = df_clean[df_clean['location_tmp'] != 'Not assigned']\n",
    "#df_clean['Vecindario'] = np.where(df['location_tmp'] == 'Not assigned', , )\n",
    "df_clean['Municipio'] = df_clean['location_tmp'].apply(lambda x: str(x).split('(')[0])\n",
    "df_clean['Vecindario'] = df_clean['location_tmp'].apply(lambda x: str(x).split('(')[1].replace(')','').replace('/',',' ))\n",
    "#si el Vecindario está como \"No asignado\", pero tiene municipio asignado se emplea el valor del Municipio como Vecindario\n",
    "df_clean['Vecindario'] = np.where(df_clean['Vecindario'] == 'Not assigned', df_clean['Municipio'], df_clean['Vecindario'])\n",
    "df_clean=df_clean[['CódigoPostal','Municipio', 'Vecindario']].reset_index(drop=True)"
   ]
  },
  {
   "cell_type": "code",
   "execution_count": 4,
   "id": "f60ddaa5",
   "metadata": {},
   "outputs": [
    {
     "data": {
      "text/plain": [
       "array(['M1B', 'M1C', 'M1E', 'M1G', 'M1H', 'M1J', 'M1K', 'M1L', 'M1M',\n",
       "       'M1N', 'M1P', 'M1R', 'M1S', 'M1T', 'M1V', 'M1W', 'M1X', 'M2H',\n",
       "       'M2J', 'M2K', 'M2L', 'M2M', 'M2N', 'M2P', 'M2R', 'M3A', 'M3B',\n",
       "       'M3C', 'M3H', 'M3J', 'M3K', 'M3L', 'M3M', 'M3N', 'M4A', 'M4B',\n",
       "       'M4C', 'M4E', 'M4G', 'M4H', 'M4J', 'M4K', 'M4L', 'M4M', 'M4N',\n",
       "       'M4P', 'M4R', 'M4S', 'M4T', 'M4V', 'M4W', 'M4X', 'M4Y', 'M5A',\n",
       "       'M5B', 'M5C', 'M5E', 'M5G', 'M5H', 'M5J', 'M5K', 'M5L', 'M5M',\n",
       "       'M5N', 'M5P', 'M5R', 'M5S', 'M5T', 'M5V', 'M5W', 'M5X', 'M6A',\n",
       "       'M6B', 'M6C', 'M6E', 'M6G', 'M6H', 'M6J', 'M6K', 'M6L', 'M6M',\n",
       "       'M6N', 'M6P', 'M6R', 'M6S', 'M7A', 'M7R', 'M7Y', 'M8V', 'M8W',\n",
       "       'M8X', 'M8Y', 'M8Z', 'M9A', 'M9B', 'M9C', 'M9L', 'M9M', 'M9N',\n",
       "       'M9P', 'M9R', 'M9V', 'M9W'], dtype=object)"
      ]
     },
     "execution_count": 4,
     "metadata": {},
     "output_type": "execute_result"
    }
   ],
   "source": [
    "df_clean['CódigoPostal'].values"
   ]
  },
  {
   "cell_type": "code",
   "execution_count": 5,
   "id": "f7865c6b",
   "metadata": {},
   "outputs": [
    {
     "name": "stdout",
     "output_type": "stream",
     "text": [
      "Nº de filas de la tabla resultante: 103\n"
     ]
    }
   ],
   "source": [
    "print( 'Nº de filas de la tabla resultante: ' + str(df_clean.shape[0]))"
   ]
  },
  {
   "cell_type": "code",
   "execution_count": null,
   "id": "e785d4f7",
   "metadata": {},
   "outputs": [],
   "source": []
  }
 ],
 "metadata": {
  "kernelspec": {
   "display_name": "Python 3 (ipykernel)",
   "language": "python",
   "name": "python3"
  },
  "language_info": {
   "codemirror_mode": {
    "name": "ipython",
    "version": 3
   },
   "file_extension": ".py",
   "mimetype": "text/x-python",
   "name": "python",
   "nbconvert_exporter": "python",
   "pygments_lexer": "ipython3",
   "version": "3.9.7"
  }
 },
 "nbformat": 4,
 "nbformat_minor": 5
}
